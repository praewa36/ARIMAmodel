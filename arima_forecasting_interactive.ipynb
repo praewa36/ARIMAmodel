{
 "cells": [
  {
   "cell_type": "markdown",
   "metadata": {},
   "source": [
    "# ARIMA Forecasting for Prim Eff CBOD5 mg/L\n",
    "This notebook allows interactive forecasting using the ARIMA model. Adjust the input parameters and observe the forecasted outcomes."
   ]
  },
  {
   "cell_type": "code",
   "metadata": {},
   "outputs": [],
   "source": [
    "import pandas as pd\n",
    "import numpy as np\n",
    "from statsmodels.tsa.arima.model import ARIMA\n",
    "import plotly.graph_objs as go\n",
    "from ipywidgets import interact, widgets"
   ]
  },
  {
   "cell_type": "markdown",
   "metadata": {},
   "source": [
    "## Data Loading and Preprocessing"
   ]
  },
  {
   "cell_type": "code",
   "metadata": {},
   "outputs": [],
   "source": [
    "# Load the data\n",
    "forecast_data = pd.read_csv('EaglesPointData.csv', parse_dates=['Date'], encoding='latin1')\n",
    "forecast_data = forecast_data.sort_values('Date').set_index('Date')\n\n",
    "# Extract air flow columns and compute total air flow\n",
    "relevant_air_flow_columns = [f\"SEC Aer Basin {i+1} Oxic Z-{j+1} Air Flow\" for i in range(4) for j in range(3)]\n",
    "forecast_data['Total Air Flow'] = forecast_data[relevant_air_flow_columns].sum(axis=1)\n\n",
    "# Split data into training and test sets (80% training, 20% test)\n",
    "train_size = int(0.8 * len(forecast_data))\n",
    "train = forecast_data.iloc[:train_size]\n",
    "test = forecast_data.iloc[train_size:]\n\n",
    "# Impute missing values\n",
    "train_filled = train.fillna(train.mean())\n",
    "test_filled = test.fillna(train.mean())  # Use mean from training data for imputation in the test set\n",
    "\n",
    "# Fit the ARIMA model\n",
    "model_cbod5 = ARIMA(train_filled['Prim Eff CBOD5 mg/L'], order=(5,1,0), exog=train_filled[['Inf water T ¡C', 'Total Air Flow']])\n",
    "model_cbod5_fit = model_cbod5.fit()"
   ]
  },
  {
   "cell_type": "markdown",
   "metadata": {},
   "source": [
    "## Interactive Forecasting"
   ]
  },
  {
   "cell_type": "code",
   "metadata": {},
   "outputs": [],
   "source": [
    "    trace5 = go.Scatter(x=test_filled.index, y=conf_int.iloc[:, 1], mode='lines', name='Upper Bound', fill='tonexty', fillcolor='rgba(255, 0, 0, 0.1)', line=dict(color='pink'))\n",
    "    layout = go.Layout(title='ARIMA Forecast with Confidence Intervals', xaxis=dict(title='Date'), yaxis=dict(title='Prim Eff CBOD5 mg/L'))\n",
    "    fig = go.Figure(data=[trace1, trace2, trace3, trace4, trace5], layout=layout)\n",
    "    fig.show()\n",
    "\n",
    "# Create interactive widgets for 'Inf water T ¡C' and 'Total Air Flow'\n",
    "interact(plot_forecast, \n",
    "         inf_water=widgets.FloatSlider(min=12.0, max=20.0, step=0.8, value=train_filled['Inf water T ¡C'].mean(), description='Inf water T ¡C'),\n",
    "         total_air_flow=widgets.FloatSlider(min=2399.25, max=3895.62, step=149.6, value=train_filled['Total Air Flow'].mean(), description='Total Air Flow'))"
   ]
  }
 ],
 "metadata": {
  "kernelspec": {
   "display_name": "Python 3",
   "language": "python",
   "name": "python3"
  },
  "language_info": {
   "name": "python",
   "version": "3.8.8"
  }
 },
 "nbformat": 4,
 "nbformat_minor": 4
}
